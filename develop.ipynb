{
 "cells": [
  {
   "cell_type": "code",
   "execution_count": 1,
   "metadata": {},
   "outputs": [],
   "source": [
    "import threading\n",
    "import time\n",
    "import random\n",
    "\n",
    "class BarberShop:\n",
    "    def __init__(self):\n",
    "        self.waiting_chairs = threading.Semaphore(5)\n",
    "        self.barber_chairs = threading.Semaphore(0)\n",
    "        self.mutex = threading.Lock()\n",
    "\n",
    "    def customer(self, id):\n",
    "        time.sleep(random.randint(1, 5))  # Simula chegada aleatória dos clientes\n",
    "        print(f\"[{time.strftime('%Y-%m-%d %H:%M:%S')}] Cliente {id} chegou.\")\n",
    "\n",
    "        self.mutex.acquire()\n",
    "        if self.waiting_chairs._value > 0:\n",
    "            self.waiting_chairs.acquire()\n",
    "            print(f\"[{time.strftime('%Y-%m-%d %H:%M:%S')}] Cliente {id} sentou na cadeira de espera.\")\n",
    "            self.mutex.release()\n",
    "            self.barber_chairs.release()\n",
    "            \n",
    "            #Espera dos clientes\n",
    "            self.barber_chairs.acquire()\n",
    "            self.waiting_chairs.release()\n",
    "            print(f\"[{time.strftime('%Y-%m-%d %H:%M:%S')}] Cliente {id} está sendo atendido pelo barbeiro.\")\n",
    "            time.sleep(random.randint(1, 5))  # Simula o tempo de atendimento\n",
    "            print(f\"[{time.strftime('%Y-%m-%d %H:%M:%S')}] Cliente {id} terminou o corte de cabelo e saiu.\")\n",
    "        else:\n",
    "            print(f\"[{time.strftime('%Y-%m-%d %H:%M:%S')}] Cliente {id} foi embora sem ser atendido, não há cadeiras de espera disponíveis.\")\n",
    "            self.mutex.release()\n"
   ]
  }
 ],
 "metadata": {
  "kernelspec": {
   "display_name": "Python 3",
   "language": "python",
   "name": "python3"
  },
  "language_info": {
   "codemirror_mode": {
    "name": "ipython",
    "version": 3
   },
   "file_extension": ".py",
   "mimetype": "text/x-python",
   "name": "python",
   "nbconvert_exporter": "python",
   "pygments_lexer": "ipython3",
   "version": "3.8.10"
  }
 },
 "nbformat": 4,
 "nbformat_minor": 2
}
